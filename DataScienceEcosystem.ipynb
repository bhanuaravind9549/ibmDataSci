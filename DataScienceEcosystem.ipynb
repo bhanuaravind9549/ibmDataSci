{
 "cells": [
  {
   "cell_type": "markdown",
   "id": "5f6b7df4",
   "metadata": {},
   "source": [
    "# Data Science Tools and Ecosystem"
   ]
  },
  {
   "cell_type": "markdown",
   "id": "a921dde1",
   "metadata": {},
   "source": [
    "# In this notebook, Data Science Tools and Ecosystems are summarized"
   ]
  },
  {
   "cell_type": "markdown",
   "id": "6f56eabf",
   "metadata": {},
   "source": [
    " **Objectives:**\n",
    "- List popular languages for Data Science\n",
    "- List most commonly used libraries by Data SCientists\n",
    "- List some open source Data Science Tools for Development Environment\n",
    "- Evaluating arithmetic expressions"
   ]
  },
  {
   "cell_type": "markdown",
   "id": "ce83a5ee",
   "metadata": {},
   "source": [
    "# Some of the popular languages that Data Scientists use are:\n",
    "1. Python\n",
    "2. R\n",
    "3. SQL"
   ]
  },
  {
   "cell_type": "markdown",
   "id": "837d5249",
   "metadata": {},
   "source": [
    "# Some of the most commonly used libraries used by Data SCientists include:\n",
    "1. Numpy\n",
    "2. Pandas\n",
    "3. Matplotlib"
   ]
  },
  {
   "cell_type": "markdown",
   "id": "f9c91cfd",
   "metadata": {},
   "source": [
    "|Data Science Tools|\n",
    "|---------------------------|\n",
    "|RStudio|\n",
    "|Watson Studio|\n",
    "|H2O Wave|\n"
   ]
  },
  {
   "cell_type": "markdown",
   "id": "9e12b5a7",
   "metadata": {},
   "source": [
    "### Below are a few examples of evaluating arithmetic expressions in Python"
   ]
  },
  {
   "cell_type": "code",
   "execution_count": 1,
   "id": "7772ed23",
   "metadata": {},
   "outputs": [
    {
     "data": {
      "text/plain": [
       "17"
      ]
     },
     "execution_count": 1,
     "metadata": {},
     "output_type": "execute_result"
    }
   ],
   "source": [
    "(3*4)+5"
   ]
  },
  {
   "cell_type": "code",
   "execution_count": 5,
   "id": "2ed0e173",
   "metadata": {},
   "outputs": [
    {
     "name": "stdout",
     "output_type": "stream",
     "text": [
      "3.3333333333333335 minutes\n"
     ]
    }
   ],
   "source": [
    "# This will convert 200 minutes to hours by diving by 60\n",
    "print(200/60, \"minutes\")"
   ]
  },
  {
   "cell_type": "markdown",
   "id": "c6cfa57d",
   "metadata": {},
   "source": [
    "## Author\n",
    "Bhanu Aravind"
   ]
  },
  {
   "cell_type": "code",
   "execution_count": null,
   "id": "f1526402",
   "metadata": {},
   "outputs": [],
   "source": []
  }
 ],
 "metadata": {
  "kernelspec": {
   "display_name": "Python 3 (ipykernel)",
   "language": "python",
   "name": "python3"
  },
  "language_info": {
   "codemirror_mode": {
    "name": "ipython",
    "version": 3
   },
   "file_extension": ".py",
   "mimetype": "text/x-python",
   "name": "python",
   "nbconvert_exporter": "python",
   "pygments_lexer": "ipython3",
   "version": "3.11.4"
  }
 },
 "nbformat": 4,
 "nbformat_minor": 5
}
